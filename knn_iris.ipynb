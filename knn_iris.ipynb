import numpy as np
import matplotlib.pyplot as plt
import seaborn as sns
from sklearn.datasets import load_iris
from sklearn.model_selection import train_test_split, GridSearchCV
from sklearn.neighbors import KNeighborsClassifier
from sklearn.metrics import confusion_matrix
from sklearn.metrics import f1_score
from sklearn.metrics import accuracy_score
from sklearn.metrics import precision_score
from sklearn.metrics import recall_score
from sklearn.metrics import ConfusionMatrixDisplay

iris = load_iris()
x = iris.data
y = iris.target

accuracies = []
k_values = range(1, 31)
for k in k_values:
  x_train, x_test, y_train, y_test = train_test_split(x, y, test_size=0.3, random_state=42)
  model = KNeighborsClassifier(n_neighbors=k)
  model.fit(x_train, y_train)
  acc = model.score(x_test, y_test)
  accuracies.append(acc)

plt.figure(figsize=(10, 5))
plt.plot(k_values, accuracies, marker = 'o')
plt.xlabel('Valores de k')
plt.ylabel('Acurácia')
plt.title('Acurácia vs Valores de K')
plt.grid
plt.show()

param = {'n_neighbors' : list(range(1, 31))}
grid = GridSearchCV(KNeighborsClassifier(), param_grid=param, cv=10, n_jobs=-1)
grid.fit(x,y)

print("Melhor valor de k:" , grid.best_params_['n_neighbors'])

k_best = grid.best_params_['n_neighbors']
accuracies_run = []
y_true_all = []
y_pred_all = []

for i in range(30): 
  x_train, x_test, y_train, y_test = train_test_split(x, y, test_size=0.3, random_state=i)                                                                                                                                                                                                                                                                                                                                                                                                                                                                                                                                                                                                                                                                                                                                                                                                                                                                                                                                                                                                                                                                                                                                                                                                                                                                                                                                                                            
  model = KNeighborsClassifier(n_neighbors=k_best)
  model.fit(x_train, y_train)
  y_pred = model.predict(x_test)
  
  y_true_all.extend(y_test)
  y_pred_all.extend(y_pred)
  
  acc = accuracy_score(y_test, y_pred)
  accuracies_run.append(acc)
  
print("Métricas para o melhor k=", k_best)
print("Acurácia média: ", np.mean(accuracies_run))
print("Precisão: ", precision_score(y_true_all, y_pred_all, average='macro'))
print("Recall: ", recall_score(y_true_all, y_pred_all, average='macro'))
print("F1 Score: ", f1_score(y_true_all, y_pred_all, average='macro'))
print("Desvio Padrão da Acurácia", np.std(accuracies_run))

cm = confusion_matrix(y_true_all, y_pred_all)
disp = ConfusionMatrixDisplay(confusion_matrix=cm, display_labels=iris.target_names)
disp.plot(cmap = 'Blues')
plt.title('Matriz de Confusão')
plt.show()
  
plt.figure(figsize=(8, 5))
sns.boxplot(data=accuracies_run)
plt.title('BoxPlot da Acurácia - 30 Runs')
plt.xlabel('Acurácia')
plt.show()
